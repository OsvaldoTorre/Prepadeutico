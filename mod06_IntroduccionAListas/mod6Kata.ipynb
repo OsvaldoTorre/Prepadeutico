{
 "cells": [
  {
   "cell_type": "markdown",
   "metadata": {},
   "source": [
    "# Kata del modulo 6"
   ]
  },
  {
   "cell_type": "markdown",
   "metadata": {},
   "source": [
    "Ejercicio1: Crear y usar listas de Python"
   ]
  },
  {
   "cell_type": "code",
   "execution_count": 10,
   "metadata": {},
   "outputs": [
    {
     "name": "stdout",
     "output_type": "stream",
     "text": [
      "Son 8 planetas\n",
      "pluton\n"
     ]
    }
   ],
   "source": [
    "planets = ['mercury', 'venus', 'earth', 'mars', 'jupiter', 'saturn', 'uranus', 'neptune']\n",
    "\n",
    "print(f\"Son {len(planets)} planetas\")\n",
    "\n",
    "planets.append('pluton')\n",
    "\n",
    "print(planets[-1])"
   ]
  },
  {
   "cell_type": "markdown",
   "metadata": {},
   "source": [
    "Ejercicio 2: Trabajando con datos de una lista"
   ]
  },
  {
   "cell_type": "code",
   "execution_count": 17,
   "metadata": {},
   "outputs": [
    {
     "name": "stdout",
     "output_type": "stream",
     "text": [
      "Planetas mas cercanos al sol que mars: mercury, venus, earth.\n",
      "Planetas mas alejados al sol que mars: jupiter, saturn, uranus, neptune.\n"
     ]
    }
   ],
   "source": [
    "planets = ['mercury', 'venus', 'earth', 'mars', 'jupiter', 'saturn', 'uranus', 'neptune']\n",
    "\n",
    "userPlanet = input('Ingresa el nombre de un planeta: ')\n",
    "indexUserPlanet = planets.index(userPlanet)\n",
    "\n",
    "cercanos = str(planets[0:indexUserPlanet]).replace(\" \",\"\").replace(\"','\",\", \").replace(\"['\",\"\").replace(\"']\",\".\")\n",
    "alejados = str(planets[indexUserPlanet+1:len(planets)]).replace(\" \",\"\").replace(\"','\",\", \").replace(\"['\",\"\").replace(\"']\",\".\")\n",
    "\n",
    "\n",
    "print(f\"Planetas mas cercanos al sol que {userPlanet}: {cercanos}\")\n",
    "print(f\"Planetas mas alejados al sol que {userPlanet}: {alejados}\")\n",
    "\n"
   ]
  }
 ],
 "metadata": {
  "interpreter": {
   "hash": "df2ce08bc8937fd1e811dba0c7e831a6a8545826b1b0b2bbb9f57d3b1b95f6a5"
  },
  "kernelspec": {
   "display_name": "Python 3.10.2 64-bit",
   "language": "python",
   "name": "python3"
  },
  "language_info": {
   "codemirror_mode": {
    "name": "ipython",
    "version": 3
   },
   "file_extension": ".py",
   "mimetype": "text/x-python",
   "name": "python",
   "nbconvert_exporter": "python",
   "pygments_lexer": "ipython3",
   "version": "3.10.2"
  },
  "orig_nbformat": 4
 },
 "nbformat": 4,
 "nbformat_minor": 2
}
