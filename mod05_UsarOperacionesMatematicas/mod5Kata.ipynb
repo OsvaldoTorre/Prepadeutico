{
 "cells": [
  {
   "cell_type": "markdown",
   "metadata": {},
   "source": [
    "# Kata del modulo 5"
   ]
  },
  {
   "cell_type": "markdown",
   "metadata": {},
   "source": [
    "Ejercicio 1: Utilizar operadores aritmeticos"
   ]
  },
  {
   "cell_type": "code",
   "execution_count": 7,
   "metadata": {},
   "outputs": [
    {
     "name": "stdout",
     "output_type": "stream",
     "text": [
      "Distancia entre la tierra y jupiter: \n",
      "628949330 km\n",
      "390810995.0389724 mi\n"
     ]
    }
   ],
   "source": [
    "tierra = '149597870' # km\n",
    "jupiter = '778547200' # km\n",
    "\n",
    "valorTierra = int(tierra)\n",
    "valorJupiter = int(jupiter)\n",
    "\n",
    "res = abs(valorJupiter-valorTierra)\n",
    "\n",
    "print(f\"\"\"Distancia entre la tierra y jupiter: \n",
    "{res} km\n",
    "{res/1.609344} mi\"\"\")"
   ]
  }
 ],
 "metadata": {
  "interpreter": {
   "hash": "df2ce08bc8937fd1e811dba0c7e831a6a8545826b1b0b2bbb9f57d3b1b95f6a5"
  },
  "kernelspec": {
   "display_name": "Python 3.10.2 64-bit",
   "language": "python",
   "name": "python3"
  },
  "language_info": {
   "codemirror_mode": {
    "name": "ipython",
    "version": 3
   },
   "file_extension": ".py",
   "mimetype": "text/x-python",
   "name": "python",
   "nbconvert_exporter": "python",
   "pygments_lexer": "ipython3",
   "version": "3.10.2"
  },
  "orig_nbformat": 4
 },
 "nbformat": 4,
 "nbformat_minor": 2
}
