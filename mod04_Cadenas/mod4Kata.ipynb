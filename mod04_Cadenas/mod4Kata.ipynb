{
 "cells": [
  {
   "cell_type": "markdown",
   "metadata": {},
   "source": [
    "# Kata del Modulo 4"
   ]
  },
  {
   "cell_type": "markdown",
   "metadata": {},
   "source": [
    "Ejercicio 1: Transformar cadenas"
   ]
  },
  {
   "cell_type": "code",
   "execution_count": 13,
   "metadata": {},
   "outputs": [
    {
     "name": "stdout",
     "output_type": "stream",
     "text": [
      "  on average, the moon moves 4cm away from the earth every year\n"
     ]
    }
   ],
   "source": [
    "text = \"\"\"Interesting facts about the Moon. The Moon is Earth's only satellite. There are several interesting facts about the Moon and how it affects life here on Earth. \n",
    "On average, the Moon moves 4cm away from the Earth every year. This yearly drift is not significant enough to cause immediate effects on Earth. The highest daylig\"\"\"\n",
    "\n",
    "oracion = text.replace(\"\\n\",\" \").lower().split('.')\n",
    "palabras = [\"average\",\"temperature\",\"distance\"]\n",
    "\n",
    "for i in oracion:\n",
    "    for p in palabras:\n",
    "        if p in i:\n",
    "            i.replace(\"c\",\"celsius\")\n",
    "            print(i)\n",
    "\n",
    "\n"
   ]
  },
  {
   "cell_type": "markdown",
   "metadata": {},
   "source": [
    "Ejercicio 2: Formateando cadenas"
   ]
  },
  {
   "cell_type": "code",
   "execution_count": 12,
   "metadata": {},
   "outputs": [
    {
     "name": "stdout",
     "output_type": "stream",
     "text": [
      "Graveda de Moon del planeta Earth\n",
      "---------------------------------------------\n",
      "Nombre del planeta: Earth\n",
      "Gravedad de Moon: 1.6199999999999999 m/s\n"
     ]
    }
   ],
   "source": [
    "name = \"Moon\"\n",
    "gravity = 0.00162\n",
    "planet = \"Earth\"\n",
    "\n",
    "gravityM = gravity*1000\n",
    "\n",
    "titulo = f\"Graveda de {name} del planeta {planet}\"\n",
    "echos = f\"Nombre del planeta: {planet}\\nGravedad de {name}: {gravityM} m/s\"\n",
    "\n",
    "plantilla = f\"{titulo}\\n---------------------------------------------\\n{echos}\"\n",
    "\n",
    "print(plantilla)"
   ]
  }
 ],
 "metadata": {
  "interpreter": {
   "hash": "df2ce08bc8937fd1e811dba0c7e831a6a8545826b1b0b2bbb9f57d3b1b95f6a5"
  },
  "kernelspec": {
   "display_name": "Python 3.10.2 64-bit",
   "language": "python",
   "name": "python3"
  },
  "language_info": {
   "codemirror_mode": {
    "name": "ipython",
    "version": 3
   },
   "file_extension": ".py",
   "mimetype": "text/x-python",
   "name": "python",
   "nbconvert_exporter": "python",
   "pygments_lexer": "ipython3",
   "version": "3.10.2"
  },
  "orig_nbformat": 4
 },
 "nbformat": 4,
 "nbformat_minor": 2
}
