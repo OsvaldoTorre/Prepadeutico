{
 "cells": [
  {
   "cell_type": "markdown",
   "metadata": {},
   "source": [
    "# kata del modulo 3\n"
   ]
  },
  {
   "cell_type": "markdown",
   "metadata": {},
   "source": [
    "Ejercicio 1, Advertencia de asteroide"
   ]
  },
  {
   "cell_type": "code",
   "execution_count": 7,
   "metadata": {},
   "outputs": [
    {
     "name": "stdout",
     "output_type": "stream",
     "text": [
      "Se acerca un asteroide RAPIDAMENTE a la tierra \n",
      "Velocidad: 49 km/s\n"
     ]
    }
   ],
   "source": [
    "asteroide = 49\n",
    "if asteroide > 25:\n",
    "    print(\"Se acerca un asteroide RAPIDAMENTE a la tierra \\nVelocidad: \"+str(asteroide)+\" km/s\")\n",
    "else:\n",
    "    print(\"Se acerca un asteroide LENTAMENTE a la tierra \\nVelocidad: \"+str(asteroide)+\" km/s\")"
   ]
  },
  {
   "cell_type": "markdown",
   "metadata": {},
   "source": [
    "Ejercicio 2, Buscar asteroide en el cielo"
   ]
  },
  {
   "cell_type": "code",
   "execution_count": 12,
   "metadata": {},
   "outputs": [
    {
     "name": "stdout",
     "output_type": "stream",
     "text": [
      "Busca un rayo de luz de un asteroide en el cielo\n"
     ]
    }
   ],
   "source": [
    "asteroide2 = 20\n",
    "if asteroide2 >= 20:\n",
    "    print(\"Busca un rayo de luz de un asteroide en el cielo\")\n",
    "elif asteroide2 <= 19:\n",
    "    print(\"Asteroide entrando a la tierra \")\n",
    "else:\n",
    "    print(\"Velocidad del asteroide invalida\")\n",
    "        \n"
   ]
  },
  {
   "cell_type": "markdown",
   "metadata": {},
   "source": [
    "Ejecicio 3, Tamaño del asteroide"
   ]
  },
  {
   "cell_type": "code",
   "execution_count": 18,
   "metadata": {},
   "outputs": [
    {
     "name": "stdout",
     "output_type": "stream",
     "text": [
      "Luz de asteroide en el Cielo\n"
     ]
    }
   ],
   "source": [
    "dimension = 45\n",
    "velocidad = 21\n",
    "\n",
    "if dimension > 25 and velocidad >= 25:\n",
    "    print(\"Asteroide peligroso\")\n",
    "elif velocidad >= 20:\n",
    "    print(\"Luz de asteroide en el Cielo\")\n",
    "elif dimension == 0 or velocidad == 0:\n",
    "    print(\"No hay asteroide acercandose a la tierra\")\n",
    "else:\n",
    "    print(\"Datos erroneos\")"
   ]
  }
 ],
 "metadata": {
  "interpreter": {
   "hash": "df2ce08bc8937fd1e811dba0c7e831a6a8545826b1b0b2bbb9f57d3b1b95f6a5"
  },
  "kernelspec": {
   "display_name": "Python 3.10.2 64-bit",
   "language": "python",
   "name": "python3"
  },
  "language_info": {
   "codemirror_mode": {
    "name": "ipython",
    "version": 3
   },
   "file_extension": ".py",
   "mimetype": "text/x-python",
   "name": "python",
   "nbconvert_exporter": "python",
   "pygments_lexer": "ipython3",
   "version": "3.10.2"
  },
  "orig_nbformat": 4
 },
 "nbformat": 4,
 "nbformat_minor": 2
}
